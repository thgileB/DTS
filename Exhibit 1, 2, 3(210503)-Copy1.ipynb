{
 "cells": [
  {
   "cell_type": "code",
   "execution_count": 3,
   "metadata": {},
   "outputs": [],
   "source": [
    "import pandas as pd\n",
    "import numpy as np\n",
    "import matplotlib.pyplot as plt\n",
    "import math\n",
    "from datetime import datetime, timedelta\n",
    "from tqdm import notebook"
   ]
  },
  {
   "cell_type": "markdown",
   "metadata": {},
   "source": [
    "# Spread Change Volatility by Credit Rating\n",
    "## (Exhibit 1)\n",
    "### trailing 36 months ('10.1.4. ~ '20.8.20.)\n",
    " \n",
    " * 36 month moving standard deviation\n",
    " * AA+, AA-, BBB+, 3 month maturity\n",
    "\n",
    "\n"
   ]
  },
  {
   "cell_type": "code",
   "execution_count": 6,
   "metadata": {},
   "outputs": [],
   "source": [
    "def spread(rating):\n",
    "    file = 'https://www.dropbox.com/scl/fi/9si4tv37ijemqwzvhek7u/credit_ytm.xlsx?dl=1&rlkey=y22k9lcfjxg9uczdelv4l0uw2'\n",
    "    company = pd.read_excel(file, index_col = '기준일', sheet_name = rating)\n",
    "    company.index = pd.DatetimeIndex(company.index.astype(str))\n",
    "    \n",
    "    del company['15Y'], company['20Y'] #나중에 데이터 확보시 삭제\n",
    "    \n",
    "    free = pd.read_csv('https://www.dropbox.com/s/47vnwxfj1jxni6u/bootstrap_ZCB_ytm.csv?dl=1', index_col = 'date')\n",
    "    free.index = pd.DatetimeIndex(free.index.astype(str))\n",
    "    \n",
    "    free.columns = company.columns\n",
    "    \n",
    "    result = 100 * company - 10000 * free #bp 단위\n",
    "    \n",
    "    return result"
   ]
  },
  {
   "cell_type": "code",
   "execution_count": 7,
   "metadata": {},
   "outputs": [],
   "source": [
    "triA = spread('AAA')\n",
    "douAp = spread('AA+')\n",
    "douA = spread('AA0')\n",
    "douAm = spread('AA-')\n",
    "triBp = spread('BBB+')\n",
    "triB = spread('BBB0')\n",
    "triBm = spread('BBB-')"
   ]
  },
  {
   "cell_type": "code",
   "execution_count": 4,
   "metadata": {},
   "outputs": [],
   "source": [
    "douAp = spread('AA+')\n",
    "douAm = spread('AA-')\n",
    "triBp = spread('BBB+')"
   ]
  },
  {
   "cell_type": "code",
   "execution_count": 5,
   "metadata": {},
   "outputs": [],
   "source": [
    "month_douAp = douAp.resample('MS').first()\n",
    "month_douAm = douAm.resample('MS').first()\n",
    "month_triBp = triBp.resample('MS').first()"
   ]
  },
  {
   "cell_type": "code",
   "execution_count": 6,
   "metadata": {},
   "outputs": [],
   "source": [
    "a = month_douAp.rolling(36).std()\n",
    "b = month_douAm.rolling(36).std()\n",
    "c = month_triBp.rolling(36).std()"
   ]
  },
  {
   "cell_type": "code",
   "execution_count": 20,
   "metadata": {},
   "outputs": [
    {
     "data": {
      "text/plain": [
       "<matplotlib.legend.Legend at 0x2d4b91bda30>"
      ]
     },
     "execution_count": 20,
     "metadata": {},
     "output_type": "execute_result"
    },
    {
     "data": {
      "image/png": "[encoded data removed]",
      "text/plain": [
       "<Figure size 432x288 with 1 Axes>"
      ]
     },
     "metadata": {
      "needs_background": "light"
     },
     "output_type": "display_data"
    }
   ],
   "source": [
    "plt.plot(month_douAp.index, a['3M'], 'r--', month_douAm.index, b['3M'], 'b', month_triBp.index, c['3M'], 'g--')\n",
    "plt.ylabel('spread change volatility (bp/month)')\n",
    "plt.legend(['AA+', 'AA-', 'BBB+'])"
   ]
  },
  {
   "cell_type": "markdown",
   "metadata": {},
   "source": [
    "# Spread Change Volatility by Spread Range\n",
    "## (Exhibit 2) \n",
    "### trailing 36 month ('10.1.4. ~ '20.8.20.)\n",
    "\n",
    "* investment-grade corporate universe partitioned by spread levels\n",
    "* Duration matching\n",
    "* Duration이 없는 경우, 만기로 대체 (만기는 issuer_data.xlsx 이용)\n",
    "* applied rate가 없는 경우, intrinsic rate로 대체 - 다 없는 경우 삭제\n"
   ]
  },
  {
   "cell_type": "code",
   "execution_count": 21,
   "metadata": {},
   "outputs": [],
   "source": [
    "def raw(year):\n",
    "    name = 'price_'+str(year)+'.csv'\n",
    "    dat = pd.read_csv(name, names = ['date', 'code', 'ytm', 'close', 'D', 'convexity', \n",
    "                           'applied rate', 'intrinsic rate', 'high', 'low', 'volume', 'issued price', 'issuer code'])\n",
    "    dat.index = dat['date']\n",
    "    del dat['date']\n",
    "    \n",
    "    dat.index = pd.to_datetime(dat.index.astype(str), format = '%Y-%m-%d')\n",
    "    \n",
    "    dat = dat.sort_values('date')\n",
    "    \n",
    "    return dat"
   ]
  },
  {
   "cell_type": "code",
   "execution_count": 2,
   "metadata": {},
   "outputs": [],
   "source": [
    "def invest(year):\n",
    "    name = 'price_'+str(year)+'.csv'\n",
    "    dat = pd.read_csv(name, names = ['date', 'code', 'ytm', 'close', 'D', 'convexity', \n",
    "                           'applied rate', 'intrinsic rate', 'high', 'low', 'volume', 'issued price', 'issuer code'])\n",
    "    \n",
    "    dat.drop(dat[dat['applied rate'] == 'BB+'].index, inplace = True)\n",
    "    dat.drop(dat[dat['applied rate'] == 'BB0'].index , inplace = True)\n",
    "    dat.drop(dat[dat['applied rate'] == 'BB-'].index, inplace = True)\n",
    "    dat.drop(dat[dat['applied rate'] == 'B+'].index, inplace = True)\n",
    "    dat.drop(dat[dat['applied rate'] == 'B0'].index, inplace = True)\n",
    "    dat.drop(dat[dat['applied rate'] == 'B-'].index, inplace = True)\n",
    "    dat.drop(dat[dat['applied rate'] == 'CCC'].index, inplace = True)\n",
    "    dat.drop(dat[dat['applied rate'] == 'CC'].index, inplace = True)\n",
    "    dat.drop(dat[dat['applied rate'] == 'C'].index, inplace = True)\n",
    "    dat.drop(dat[dat['applied rate'].isna() & dat['intrinsic rate'].isna()].index, inplace = True)\n",
    "    \n",
    "    dat['date'] = pd.to_datetime(dat['date'].astype(str), format = '%Y-%m-%d')\n",
    "    \n",
    "    return dat"
   ]
  },
  {
   "cell_type": "code",
   "execution_count": 23,
   "metadata": {},
   "outputs": [],
   "source": [
    "def high_y(year):\n",
    "    name = 'price_'+str(year)+'.csv'\n",
    "    dat = pd.read_csv(name, names = ['date', 'code', 'ytm', 'close', 'D', 'convexity', \n",
    "                           'applied rate', 'intrinsic rate', 'high', 'low', 'volume', 'issued price', 'issuer code'])\n",
    "    \n",
    "    dat.drop(dat[dat['applied rate'] == 'AAA'].index, inplace = True)\n",
    "    dat.drop(dat[dat['applied rate'] == 'AA+'].index , inplace = True)\n",
    "    dat.drop(dat[dat['applied rate'] == 'AA0'].index, inplace = True)\n",
    "    dat.drop(dat[dat['applied rate'] == 'AA-'].index, inplace = True)\n",
    "    dat.drop(dat[dat['applied rate'] == 'A+'].index, inplace = True)\n",
    "    dat.drop(dat[dat['applied rate'] == 'A0'].index, inplace = True)\n",
    "    dat.drop(dat[dat['applied rate'] == 'A-'].index, inplace = True)\n",
    "    dat.drop(dat[dat['applied rate'] == 'BBB+'].index, inplace = True)\n",
    "    dat.drop(dat[dat['applied rate'] == 'BBB0'].index, inplace = True)\n",
    "    dat.drop(dat[dat['applied rate'] == 'BBB-'].index, inplace = True)\n",
    "    dat.drop(dat[dat['applied rate'].isna() & dat['intrinsic rate'].isna()].index, inplace = True) \n",
    "    \n",
    "    dat['date'] = pd.to_datetime(dat['date'].astype(str), format = '%Y-%m-%d')\n",
    "    \n",
    "    dat.sort_values('date')\n",
    "    \n",
    "    return dat\n",
    "    "
   ]
  },
  {
   "cell_type": "code",
   "execution_count": 24,
   "metadata": {},
   "outputs": [],
   "source": [
    "def treasury(year):\n",
    "    trea = pd.read_csv('bootstrap_ZCB_ytm.csv', index_col = 'date')\n",
    "    \n",
    "    trea.index = pd.to_datetime(trea.index.astype(str), format = '%Y-%m-%d') #이렇게 해놔야 밑에처럼 slicing 가능\n",
    "    \n",
    "    trea = trea[str(year)] \n",
    "    \n",
    "    new_index = pd.date_range(str(year)+'-01-01', periods = 365)\n",
    "\n",
    "    trea = trea.reindex(new_index.union(trea.index), method = 'ffill') #거래일이 아닌 경우 그 전 거래일 값을 가짐. \n",
    "    \n",
    "    return 100*trea #소수점을 %로 표시"
   ]
  },
  {
   "cell_type": "code",
   "execution_count": 25,
   "metadata": {},
   "outputs": [],
   "source": [
    "def Dmatching(data):\n",
    "    info = pd.read_excel('issuer_data.xlsx')\n",
    "    \n",
    "    maturity_val = np.round((info['만기일']-info['발행일'])/10000)\n",
    "    \n",
    "    maturity = pd.Series(maturity_val.values, index = info['종목코드'])\n",
    "    \n",
    "    for row in notebook.tqdm(range(len(data.index))):\n",
    "        if math.isnan(data['D'].iloc[row]) == True: ##데이터형\n",
    "            data[\"D\"].iloc[row] = maturity.loc[data['code'].iloc[row]]\n",
    "            #전역변수 지역 변수 고려하여 최적화 해보기\n",
    "            #math.nan 안에 np.nan, float.nan 이 포함됨\n",
    "            \n",
    "            \n",
    "    if data['D'][data['D'].isna()].count() == 0: #na값이 있는지 확인\n",
    "        print('변환 완료')\n",
    "        \n",
    "    else:\n",
    "        print('변환되지 않은 값이 있습니다.')\n",
    "    \n",
    "    return data"
   ]
  },
  {
   "cell_type": "code",
   "execution_count": 28,
   "metadata": {},
   "outputs": [],
   "source": [
    "def pivo2(indiv, trea):\n",
    "   \n",
    "    piv = pd.pivot_table(indiv, values = ['D', 'ytm', 'issued price'], index = ['code', 'date'])\n",
    "    \n",
    "    mat = []\n",
    "    tn = []\n",
    "    wgt = []\n",
    "    \n",
    "    total = sum(piv['issued price'].values)\n",
    "    \n",
    "    for i in notebook.tqdm(range(len(piv.index))):\n",
    "        \n",
    "        duration = piv[\"D\"].loc[piv.index[i]]\n",
    "        price = piv['issued price'].loc[piv.index[i]]\n",
    "    \n",
    "        if float(duration) <= 0:\n",
    "            duration = 3\n",
    "        elif float(duration) <= 1:\n",
    "            duration = round(duration/0.25)*3 #분위수 개념 ()\n",
    "        elif float(duration) <= 3:\n",
    "            duration = round(duration/0.5)*6  #분위수 개념 ()\n",
    "        elif round(float(duration)) == 6:\n",
    "            duration = 60 #duration 이 반올림하여 6년이면, 5년 zcb와 matching\n",
    "        elif round(float(duration)) == 8:\n",
    "            duration = 84 #duration 이 반올림하여 8년이면, 7년 zcb와 matching\n",
    "        elif round(float(duration)) == 9:\n",
    "            duration = 120 #duration 이 반올림하여 9년이면, 10년 zcb와 matching  \n",
    "        elif round(float(duration)) > 10:\n",
    "            duration = 120   #duration 이 반올림하여 10년보다 크면, 10년 zcb와 matching\n",
    "        else:\n",
    "            duration = round(float(duration))*12 #나머진 전부 개월로 변환\n",
    "        \n",
    "        mat.append(duration)\n",
    "        wgt.append(price/total)\n",
    "    \n",
    "        try:\n",
    "            tn.append(trea.loc[piv.index[i][-1]]['MATURITY'+str(duration)])\n",
    "        \n",
    "        except Exception:\n",
    "            tn.append(np.nan)\n",
    "            \n",
    "    piv['zcb maturity'] = mat\n",
    "    piv['spread'] = piv['ytm']-tn\n",
    "    piv['weight'] = wgt\n",
    "    \n",
    "    return piv"
   ]
  },
  {
   "cell_type": "code",
   "execution_count": 3,
   "metadata": {},
   "outputs": [],
   "source": [
    "criteria = invest(2010)"
   ]
  },
  {
   "cell_type": "code",
   "execution_count": 31,
   "metadata": {},
   "outputs": [],
   "source": [
    "zcb2010 = treasury(2010)"
   ]
  },
  {
   "cell_type": "code",
   "execution_count": 30,
   "metadata": {},
   "outputs": [
    {
     "data": {
      "application/vnd.jupyter.widget-view+json": {
       "model_id": "681de0c93e0a443ab0fae9847c979fb1",
       "version_major": 2,
       "version_minor": 0
      },
      "text/plain": [
       "HBox(children=(HTML(value=''), FloatProgress(value=0.0, max=2874633.0), HTML(value='')))"
      ]
     },
     "metadata": {},
     "output_type": "display_data"
    },
    {
     "name": "stderr",
     "output_type": "stream",
     "text": [
      "C:\\Users\\belig\\Anaconda3\\lib\\site-packages\\pandas\\core\\indexing.py:670: SettingWithCopyWarning: \n",
      "A value is trying to be set on a copy of a slice from a DataFrame\n",
      "\n",
      "See the caveats in the documentation: https://pandas.pydata.org/pandas-docs/stable/user_guide/indexing.html#returning-a-view-versus-a-copy\n",
      "  iloc._setitem_with_indexer(indexer, value)\n"
     ]
    },
    {
     "name": "stdout",
     "output_type": "stream",
     "text": [
      "\n",
      "변환 완료\n"
     ]
    },
    {
     "data": {
      "text/html": [
       "<div>\n",
       "<style scoped>\n",
       "    .dataframe tbody tr th:only-of-type {\n",
       "        vertical-align: middle;\n",
       "    }\n",
       "\n",
       "    .dataframe tbody tr th {\n",
       "        vertical-align: top;\n",
       "    }\n",
       "\n",
       "    .dataframe thead th {\n",
       "        text-align: right;\n",
       "    }\n",
       "</style>\n",
       "<table border=\"1\" class=\"dataframe\">\n",
       "  <thead>\n",
       "    <tr style=\"text-align: right;\">\n",
       "      <th></th>\n",
       "      <th>date</th>\n",
       "      <th>code</th>\n",
       "      <th>ytm</th>\n",
       "      <th>close</th>\n",
       "      <th>D</th>\n",
       "      <th>convexity</th>\n",
       "      <th>applied rate</th>\n",
       "      <th>intrinsic rate</th>\n",
       "      <th>high</th>\n",
       "      <th>low</th>\n",
       "      <th>volume</th>\n",
       "      <th>issued price</th>\n",
       "      <th>issuer code</th>\n",
       "    </tr>\n",
       "  </thead>\n",
       "  <tbody>\n",
       "    <tr>\n",
       "      <th>0</th>\n",
       "      <td>2010-01-13</td>\n",
       "      <td>KR610999LW43</td>\n",
       "      <td>5.8740</td>\n",
       "      <td>10293.587045</td>\n",
       "      <td>0.919157</td>\n",
       "      <td>-10.628189</td>\n",
       "      <td>AAA</td>\n",
       "      <td>NaN</td>\n",
       "      <td>NaN</td>\n",
       "      <td>NaN</td>\n",
       "      <td>NaN</td>\n",
       "      <td>10000000000</td>\n",
       "      <td>14722</td>\n",
       "    </tr>\n",
       "    <tr>\n",
       "      <th>1</th>\n",
       "      <td>2010-01-13</td>\n",
       "      <td>KR3808071W42</td>\n",
       "      <td>2.6500</td>\n",
       "      <td>9935.081726</td>\n",
       "      <td>0.244975</td>\n",
       "      <td>0.120021</td>\n",
       "      <td>AAA</td>\n",
       "      <td>AAA</td>\n",
       "      <td>NaN</td>\n",
       "      <td>NaN</td>\n",
       "      <td>NaN</td>\n",
       "      <td>50000000000</td>\n",
       "      <td>03430</td>\n",
       "    </tr>\n",
       "    <tr>\n",
       "      <th>2</th>\n",
       "      <td>2010-01-13</td>\n",
       "      <td>KR3811041W43</td>\n",
       "      <td>2.7000</td>\n",
       "      <td>9933.864954</td>\n",
       "      <td>0.244945</td>\n",
       "      <td>0.119996</td>\n",
       "      <td>AAA</td>\n",
       "      <td>AAA</td>\n",
       "      <td>NaN</td>\n",
       "      <td>NaN</td>\n",
       "      <td>NaN</td>\n",
       "      <td>110000000000</td>\n",
       "      <td>03432</td>\n",
       "    </tr>\n",
       "    <tr>\n",
       "      <th>3</th>\n",
       "      <td>2010-01-13</td>\n",
       "      <td>KR3811057W44</td>\n",
       "      <td>3.9800</td>\n",
       "      <td>10087.791705</td>\n",
       "      <td>1.202266</td>\n",
       "      <td>1.774063</td>\n",
       "      <td>AAA</td>\n",
       "      <td>AAA</td>\n",
       "      <td>NaN</td>\n",
       "      <td>NaN</td>\n",
       "      <td>NaN</td>\n",
       "      <td>100000000000</td>\n",
       "      <td>03432</td>\n",
       "    </tr>\n",
       "    <tr>\n",
       "      <th>4</th>\n",
       "      <td>2010-01-13</td>\n",
       "      <td>KR6005991W49</td>\n",
       "      <td>4.9600</td>\n",
       "      <td>10348.041166</td>\n",
       "      <td>1.177464</td>\n",
       "      <td>1.725980</td>\n",
       "      <td>A-</td>\n",
       "      <td>NaN</td>\n",
       "      <td>NaN</td>\n",
       "      <td>NaN</td>\n",
       "      <td>NaN</td>\n",
       "      <td>20000000000</td>\n",
       "      <td>00599</td>\n",
       "    </tr>\n",
       "    <tr>\n",
       "      <th>...</th>\n",
       "      <td>...</td>\n",
       "      <td>...</td>\n",
       "      <td>...</td>\n",
       "      <td>...</td>\n",
       "      <td>...</td>\n",
       "      <td>...</td>\n",
       "      <td>...</td>\n",
       "      <td>...</td>\n",
       "      <td>...</td>\n",
       "      <td>...</td>\n",
       "      <td>...</td>\n",
       "      <td>...</td>\n",
       "      <td>...</td>\n",
       "    </tr>\n",
       "    <tr>\n",
       "      <th>2959070</th>\n",
       "      <td>2010-12-31</td>\n",
       "      <td>KR60237820C6</td>\n",
       "      <td>4.5500</td>\n",
       "      <td>10023.399609</td>\n",
       "      <td>2.755824</td>\n",
       "      <td>8.577644</td>\n",
       "      <td>AA-</td>\n",
       "      <td>AA-</td>\n",
       "      <td>NaN</td>\n",
       "      <td>NaN</td>\n",
       "      <td>NaN</td>\n",
       "      <td>50000000000</td>\n",
       "      <td>02378</td>\n",
       "    </tr>\n",
       "    <tr>\n",
       "      <th>2959071</th>\n",
       "      <td>2010-12-31</td>\n",
       "      <td>KR6028822098</td>\n",
       "      <td>2.9794</td>\n",
       "      <td>10010.649862</td>\n",
       "      <td>0.221754</td>\n",
       "      <td>-0.070347</td>\n",
       "      <td>AAA</td>\n",
       "      <td>AAA</td>\n",
       "      <td>NaN</td>\n",
       "      <td>NaN</td>\n",
       "      <td>NaN</td>\n",
       "      <td>110000000000</td>\n",
       "      <td>02882</td>\n",
       "    </tr>\n",
       "    <tr>\n",
       "      <th>2959072</th>\n",
       "      <td>2010-12-31</td>\n",
       "      <td>KR60297810C4</td>\n",
       "      <td>4.3100</td>\n",
       "      <td>10005.821671</td>\n",
       "      <td>2.768396</td>\n",
       "      <td>8.633569</td>\n",
       "      <td>AA0</td>\n",
       "      <td>AA0</td>\n",
       "      <td>NaN</td>\n",
       "      <td>NaN</td>\n",
       "      <td>NaN</td>\n",
       "      <td>20000000000</td>\n",
       "      <td>02978</td>\n",
       "    </tr>\n",
       "    <tr>\n",
       "      <th>2959073</th>\n",
       "      <td>2010-12-31</td>\n",
       "      <td>KR6032391V65</td>\n",
       "      <td>1.4724</td>\n",
       "      <td>10027.401992</td>\n",
       "      <td>0.211571</td>\n",
       "      <td>-0.019545</td>\n",
       "      <td>AAA</td>\n",
       "      <td>AAA</td>\n",
       "      <td>NaN</td>\n",
       "      <td>NaN</td>\n",
       "      <td>NaN</td>\n",
       "      <td>95000000</td>\n",
       "      <td>03020</td>\n",
       "    </tr>\n",
       "    <tr>\n",
       "      <th>2959074</th>\n",
       "      <td>2010-12-31</td>\n",
       "      <td>KR60806110C3</td>\n",
       "      <td>2.9884</td>\n",
       "      <td>10041.519112</td>\n",
       "      <td>0.202660</td>\n",
       "      <td>-0.633862</td>\n",
       "      <td>A0</td>\n",
       "      <td>A-</td>\n",
       "      <td>NaN</td>\n",
       "      <td>NaN</td>\n",
       "      <td>NaN</td>\n",
       "      <td>30000000</td>\n",
       "      <td>09924</td>\n",
       "    </tr>\n",
       "  </tbody>\n",
       "</table>\n",
       "<p>2874633 rows × 13 columns</p>\n",
       "</div>"
      ],
      "text/plain": [
       "              date          code     ytm         close         D  convexity  \\\n",
       "0       2010-01-13  KR610999LW43  5.8740  10293.587045  0.919157 -10.628189   \n",
       "1       2010-01-13  KR3808071W42  2.6500   9935.081726  0.244975   0.120021   \n",
       "2       2010-01-13  KR3811041W43  2.7000   9933.864954  0.244945   0.119996   \n",
       "3       2010-01-13  KR3811057W44  3.9800  10087.791705  1.202266   1.774063   \n",
       "4       2010-01-13  KR6005991W49  4.9600  10348.041166  1.177464   1.725980   \n",
       "...            ...           ...     ...           ...       ...        ...   \n",
       "2959070 2010-12-31  KR60237820C6  4.5500  10023.399609  2.755824   8.577644   \n",
       "2959071 2010-12-31  KR6028822098  2.9794  10010.649862  0.221754  -0.070347   \n",
       "2959072 2010-12-31  KR60297810C4  4.3100  10005.821671  2.768396   8.633569   \n",
       "2959073 2010-12-31  KR6032391V65  1.4724  10027.401992  0.211571  -0.019545   \n",
       "2959074 2010-12-31  KR60806110C3  2.9884  10041.519112  0.202660  -0.633862   \n",
       "\n",
       "        applied rate intrinsic rate  high  low  volume  issued price  \\\n",
       "0                AAA            NaN   NaN  NaN     NaN   10000000000   \n",
       "1                AAA            AAA   NaN  NaN     NaN   50000000000   \n",
       "2                AAA            AAA   NaN  NaN     NaN  110000000000   \n",
       "3                AAA            AAA   NaN  NaN     NaN  100000000000   \n",
       "4                 A-            NaN   NaN  NaN     NaN   20000000000   \n",
       "...              ...            ...   ...  ...     ...           ...   \n",
       "2959070          AA-            AA-   NaN  NaN     NaN   50000000000   \n",
       "2959071          AAA            AAA   NaN  NaN     NaN  110000000000   \n",
       "2959072          AA0            AA0   NaN  NaN     NaN   20000000000   \n",
       "2959073          AAA            AAA   NaN  NaN     NaN      95000000   \n",
       "2959074           A0             A-   NaN  NaN     NaN      30000000   \n",
       "\n",
       "        issuer code  \n",
       "0             14722  \n",
       "1             03430  \n",
       "2             03432  \n",
       "3             03432  \n",
       "4             00599  \n",
       "...             ...  \n",
       "2959070       02378  \n",
       "2959071       02882  \n",
       "2959072       02978  \n",
       "2959073       03020  \n",
       "2959074       09924  \n",
       "\n",
       "[2874633 rows x 13 columns]"
      ]
     },
     "execution_count": 30,
     "metadata": {},
     "output_type": "execute_result"
    }
   ],
   "source": [
    "Dmatching(criteria)"
   ]
  },
  {
   "cell_type": "code",
   "execution_count": 32,
   "metadata": {},
   "outputs": [
    {
     "data": {
      "application/vnd.jupyter.widget-view+json": {
       "model_id": "582e81fb8cd04efe9070254ac202d4c5",
       "version_major": 2,
       "version_minor": 0
      },
      "text/plain": [
       "HBox(children=(HTML(value=''), FloatProgress(value=0.0, max=2874633.0), HTML(value='')))"
      ]
     },
     "metadata": {},
     "output_type": "display_data"
    },
    {
     "name": "stdout",
     "output_type": "stream",
     "text": [
      "\n"
     ]
    }
   ],
   "source": [
    "crit_table = pivo2(criteria, zcb2010)"
   ]
  },
  {
   "cell_type": "markdown",
   "metadata": {},
   "source": [
    "# Absolute & Relative Spread Change Volatility of Investment grade universe\n",
    "## (Exhibit 3) \n",
    "### trailing 36 month ('10.1.4. ~ '20.8.20.)\n",
    "\n",
    "* moving standard deviation of 36 months"
   ]
  },
  {
   "cell_type": "code",
   "execution_count": 8,
   "metadata": {},
   "outputs": [],
   "source": [
    "daily = pd.read_csv('invest_spread.csv', index_col='date')\n",
    "daily.index = pd.to_datetime(daily.index)"
   ]
  },
  {
   "cell_type": "code",
   "execution_count": 9,
   "metadata": {},
   "outputs": [],
   "source": [
    "month = daily.resample('MS').first()"
   ]
  },
  {
   "cell_type": "code",
   "execution_count": 10,
   "metadata": {},
   "outputs": [],
   "source": [
    "absolute = []\n",
    "for i in range(len(month.index)-1):\n",
    "    absolute.append(month.iloc[i+1]-month.iloc[i])\n",
    "\n",
    "absolute = pd.DataFrame(absolute)"
   ]
  },
  {
   "cell_type": "code",
   "execution_count": 11,
   "metadata": {},
   "outputs": [],
   "source": [
    "absolute.loc['last'] = 1\n",
    "absolute = absolute.shift(1)\n",
    "absolute.index = month.index"
   ]
  },
  {
   "cell_type": "code",
   "execution_count": 12,
   "metadata": {},
   "outputs": [],
   "source": [
    "abv = absolute.rolling(36).std()"
   ]
  },
  {
   "cell_type": "code",
   "execution_count": 13,
   "metadata": {},
   "outputs": [],
   "source": [
    "relative = month.pct_change()*100"
   ]
  },
  {
   "cell_type": "code",
   "execution_count": 14,
   "metadata": {},
   "outputs": [],
   "source": [
    "rev = relative.rolling(36).std()"
   ]
  },
  {
   "cell_type": "code",
   "execution_count": 15,
   "metadata": {},
   "outputs": [
    {
     "data": {
      "image/png": "[encoded data removed]",
      "text/plain": [
       "<Figure size 432x288 with 2 Axes>"
      ]
     },
     "metadata": {
      "needs_background": "light"
     },
     "output_type": "display_data"
    }
   ],
   "source": [
    "fig, ax1 = plt.subplots()\n",
    "ax1.set_ylabel('absolute volatility(bp)')\n",
    "ax1.plot(absolute.index, abv, color = 'red')\n",
    "\n",
    "ax2 = ax1.twinx()\n",
    "ax2.set_ylabel('relative volatility(%)')\n",
    "ax2.plot(relative.index, rev, color = 'blue')\n",
    "plt.show()"
   ]
  },
  {
   "cell_type": "markdown",
   "metadata": {},
   "source": [
    "# Average Spreads and Spread Changes for Large Issuers in the ' ' sector\n",
    "# (Exhibit 5)\n",
    "## (Jan 2010)"
   ]
  },
  {
   "cell_type": "code",
   "execution_count": null,
   "metadata": {},
   "outputs": [],
   "source": []
  },
  {
   "cell_type": "code",
   "execution_count": null,
   "metadata": {},
   "outputs": [],
   "source": []
  },
  {
   "cell_type": "code",
   "execution_count": null,
   "metadata": {},
   "outputs": [],
   "source": []
  },
  {
   "cell_type": "code",
   "execution_count": null,
   "metadata": {},
   "outputs": [],
   "source": []
  },
  {
   "cell_type": "markdown",
   "metadata": {},
   "source": [
    "# Regression Estimates of Various Models of Spread change - Exhibit5에서 사용한 sector\n",
    "# (Exhibit 6)"
   ]
  },
  {
   "cell_type": "code",
   "execution_count": null,
   "metadata": {},
   "outputs": [],
   "source": []
  },
  {
   "cell_type": "code",
   "execution_count": null,
   "metadata": {},
   "outputs": [],
   "source": []
  },
  {
   "cell_type": "code",
   "execution_count": null,
   "metadata": {},
   "outputs": [],
   "source": []
  },
  {
   "cell_type": "code",
   "execution_count": null,
   "metadata": {},
   "outputs": [],
   "source": []
  },
  {
   "cell_type": "code",
   "execution_count": null,
   "metadata": {},
   "outputs": [],
   "source": []
  },
  {
   "cell_type": "code",
   "execution_count": null,
   "metadata": {},
   "outputs": [],
   "source": []
  },
  {
   "cell_type": "code",
   "execution_count": null,
   "metadata": {},
   "outputs": [],
   "source": []
  }
 ],
 "metadata": {
  "kernelspec": {
   "display_name": "Python 3",
   "language": "python",
   "name": "python3"
  },
  "language_info": {
   "codemirror_mode": {
    "name": "ipython",
    "version": 3
   },
   "file_extension": ".py",
   "mimetype": "text/x-python",
   "name": "python",
   "nbconvert_exporter": "python",
   "pygments_lexer": "ipython3",
   "version": "3.8.5"
  }
 },
 "nbformat": 4,
 "nbformat_minor": 4
}
